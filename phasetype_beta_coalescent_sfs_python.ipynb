{
 "cells": [
  {
   "cell_type": "code",
   "execution_count": 1,
   "metadata": {},
   "outputs": [],
   "source": [
    "from scipy.special import beta, binom\n",
    "import numpy as np\n",
    "\n",
    "\n",
    "def partitions(n, I=1):\n",
    "    yield (n,)\n",
    "    for i in range(I, n//2 + 1):\n",
    "        for p in partitions(n-i, i):\n",
    "            yield p + (i,)\n",
    "            \n",
    "def P(n): return len(list(partitions(n)))\n",
    "\n",
    "def parts(n):\n",
    "    \"\"\"Given an integer, return a matrix whose columns enumerate various partitions. \n",
    "       See partitions::parts(...) R function  \n",
    "    \"\"\"\n",
    "    ps = list(partitions(n))\n",
    "    ps = sorted(ps, reverse=True)\n",
    "    n_parts = len(ps)\n",
    "    x = np.zeros(shape=(n_parts, n))\n",
    "    for i,j in enumerate(ps):\n",
    "        for k in range(len(j)):\n",
    "            x[i][k] = j[k]\n",
    "    return x.T\n",
    "\n",
    "\n",
    "def RateMatandStateSpace(n, alpha):\n",
    "    dim = P(n)\n",
    "    Rmatrix = np.zeros(shape=(dim,n))\n",
    "    x = parts(n)\n",
    "    for i in range(1,dim+1):\n",
    "        y = x[:,-i]\n",
    "        for j in range(1,n+1):\n",
    "            Rmatrix[i-1, j-1] = len(np.where(j==y)[0])\n",
    "    Rmatrix = np.array(sorted(Rmatrix, key=lambda a_entry: a_entry[0], reverse=True))\n",
    "    Rate = np.zeros(shape=(dim,dim))\n",
    "    for i in range(1, dim):\n",
    "        for j in range(i):\n",
    "            c = Rmatrix[i,:] - Rmatrix[j,:]\n",
    "            check1 = c@np.arange(1,n+1)\n",
    "            w1 = c>0\n",
    "            sum2 = c@w1\n",
    "            check2 = sum2\n",
    "            w2 = c<0\n",
    "            cneg = -c * w2\n",
    "            if check1 == 0 and check2 == 1:\n",
    "                provrate = beta(sum(cneg) - alpha, sum(Rmatrix[j]) - sum(cneg) + alpha) / beta(alpha, 2-alpha)\n",
    "                for k in range(0,n):\n",
    "                    provrate = provrate * binom(Rmatrix[j,k], cneg[k])\n",
    "                Rate[j,i] = provrate\n",
    "    for i in range(dim):\n",
    "        Rate[i,i] = -sum(Rate[i])\n",
    "    return {'RateMat':Rate, 'StateSpace':Rmatrix}\n",
    "    \n",
    "    \n",
    "    \n",
    "def SiteFrequencySpectrumBetaCoalescent(n, alpha, mutrat = 2):\n",
    "    dim = P(n)\n",
    "    RmSs = RateMatandStateSpace(n, alpha)\n",
    "    Rmat = RmSs['StateSpace'][0:dim-1,0:n-1] \n",
    "    T = RmSs['RateMat'][0:(dim-1), 0:(dim-1)]\n",
    "    invRate = np.linalg.inv(-T)\n",
    "    m1 = np.ones(n-1)\n",
    "    id = np.diag(np.ones(dim-1))\n",
    "    for i in range(n-1):\n",
    "        m1[i] = id[0] @ invRate @ Rmat[:,i]\n",
    "    m1 = mutrat / 2 * m1\n",
    "    return m1\n"
   ]
  },
  {
   "cell_type": "code",
   "execution_count": 7,
   "metadata": {},
   "outputs": [],
   "source": [
    "n= 25\n",
    "alpha = 1.25\n",
    "mutation_rate = 2\n",
    "\n",
    "sfs25_125 = SiteFrequencySpectrumBetaCoalescent(n, alpha, mutation_rate)"
   ]
  },
  {
   "cell_type": "code",
   "execution_count": 5,
   "metadata": {},
   "outputs": [],
   "source": [
    "import matplotlib.pyplot as plt"
   ]
  },
  {
   "cell_type": "code",
   "execution_count": 8,
   "metadata": {},
   "outputs": [
    {
     "data": {
      "text/plain": [
       "[<matplotlib.lines.Line2D at 0x7fa3c7f25880>]"
      ]
     },
     "execution_count": 8,
     "metadata": {},
     "output_type": "execute_result"
    },
    {
     "data": {
      "image/png": "[encoded data removed]",
      "text/plain": [
       "<Figure size 432x288 with 1 Axes>"
      ]
     },
     "metadata": {
      "needs_background": "light"
     },
     "output_type": "display_data"
    }
   ],
   "source": [
    "plt.plot(sfs25_125)"
   ]
  }
 ],
 "metadata": {
  "kernelspec": {
   "display_name": "Python 3",
   "language": "python",
   "name": "python3"
  },
  "language_info": {
   "codemirror_mode": {
    "name": "ipython",
    "version": 3
   },
   "file_extension": ".py",
   "mimetype": "text/x-python",
   "name": "python",
   "nbconvert_exporter": "python",
   "pygments_lexer": "ipython3",
   "version": "3.9.1"
  }
 },
 "nbformat": 4,
 "nbformat_minor": 4
}
